{
  "nbformat": 4,
  "nbformat_minor": 0,
  "metadata": {
    "colab": {
      "name": "NPM_Try1.ipynb",
      "version": "0.3.2",
      "provenance": [],
      "include_colab_link": true
    },
    "kernelspec": {
      "name": "python3",
      "display_name": "Python 3"
    }
  },
  "cells": [
    {
      "cell_type": "markdown",
      "metadata": {
        "id": "view-in-github",
        "colab_type": "text"
      },
      "source": [
        "<a href=\"https://colab.research.google.com/github/cwcheng0/NPM/blob/master/NPM_Try1.ipynb\" target=\"_parent\"><img src=\"https://colab.research.google.com/assets/colab-badge.svg\" alt=\"Open In Colab\"/></a>"
      ]
    },
    {
      "metadata": {
        "id": "f--fDQFyuNlP",
        "colab_type": "code",
        "colab": {}
      },
      "cell_type": "code",
      "source": [
        "# 2018 NPM Open Data Contast\n",
        "# Source http://210.69.170.105/popendata/APP_Prog/cht/overview_cht.aspx\n",
        "# import libraries\n",
        "# Attendee: Mike + Eric Guan\n",
        "import requests \n",
        "import json "
      ],
      "execution_count": 0,
      "outputs": []
    },
    {
      "metadata": {
        "id": "u_FLMERnuPjW",
        "colab_type": "code",
        "colab": {}
      },
      "cell_type": "code",
      "source": [
        "# Give source and API key\n",
        "\n",
        "search_url = \"https://openapi.npm.gov.tw/v1/rest/collection/search/04000975?limit=2&offset=10&lang=cht\" \n",
        "headers = {\"apiKey\" : \"39d60a62-9df8-4df9-aefa-b47998ee2a61\"} "
      ],
      "execution_count": 0,
      "outputs": []
    },
    {
      "metadata": {
        "id": "o0Eb23xbuVwy",
        "colab_type": "code",
        "colab": {
          "base_uri": "https://localhost:8080/",
          "height": 271
        },
        "outputId": "cd361339-1214-49dd-c086-1c792d4ebded"
      },
      "cell_type": "code",
      "source": [
        "# Get data\n",
        "# Is there English data?\n",
        "response = requests.get(search_url, headers=headers, verify=False) \n",
        "response.json()"
      ],
      "execution_count": 4,
      "outputs": [
        {
          "output_type": "stream",
          "text": [
            "/usr/local/lib/python3.6/dist-packages/urllib3/connectionpool.py:858: InsecureRequestWarning: Unverified HTTPS request is being made. Adding certificate verification is strongly advised. See: https://urllib3.readthedocs.io/en/latest/advanced-usage.html#ssl-warnings\n",
            "  InsecureRequestWarning)\n"
          ],
          "name": "stderr"
        },
        {
          "output_type": "execute_result",
          "data": {
            "text/plain": [
              "{'error': None,\n",
              " 'result': [{'ArticleContext': '黃公望（1269－1354），江蘇常熟人。本姓陸，名堅，字子久，號大癡，又號一峰道人，晚號井西道人。父母早逝，繼永嘉黃氏，其父九十始得之曰：「黃公望子久矣。」因而名字焉。與吳鎮（1280－1354）、倪瓚（1301－1374）、王蒙（1308－1385）合稱為「元四大家」。\\r\\n&nbsp;\\r\\n至正七年，年歲漸老的黃公望回歸浙江省富陽縣富春鄉，同門師弟無用師同往，黃氏為無用師描繪富春山景色，到至正十年（1350），歷三四年方完成，時黃氏八十二歲，是其傳世最重要的作品。\\r\\n&nbsp;\\r\\n&lt;富春山居圖&gt;（無用師卷）由六紙接成，長逾六公尺，第一紙前有殘補痕跡。明末曾經火厄，裁裂前段部份現由浙江省博物館。畫卷筆墨堆疊層出，山石勾勒皴染變化多樣。全卷山體從渾圓迫近、層疊後偃，平緩坡岸乃至聳峙山峰，具豐富的山水型態。此畫卷不僅是富春的隱居景致，更是黃公望探索自然造化後的理想山水形象。\\r\\n&nbsp;',\n",
              "   'ArticleMaker': '黃公望',\n",
              "   'ArticleRemarks': '卷\\u3000紙本\\u3000水墨畫\\u3000縱：33公分\\u3000橫：636.9公分',\n",
              "   'ArticleSubject': '富春山居圖（無用師）',\n",
              "   'CateGory': '繪畫',\n",
              "   'Serial_No': '04000975',\n",
              "   'Slogan': '元',\n",
              "   'art_room': '',\n",
              "   'imgUrl': 'http://theme.npm.edu.tw/selection/att/collection/04000975/17010199.jpg'}],\n",
              " 'status': 200}"
            ]
          },
          "metadata": {
            "tags": []
          },
          "execution_count": 4
        }
      ]
    },
    {
      "metadata": {
        "id": "O121XjC6dXE5",
        "colab_type": "code",
        "colab": {
          "base_uri": "https://localhost:8080/",
          "height": 271
        },
        "outputId": "01ea5128-7a66-42f4-936d-11c197469810"
      },
      "cell_type": "code",
      "source": [
        "# Check if English is working? No\n",
        "search_url = \"https://openapi.npm.gov.tw/v1/rest/collection/search/04000975?limit=2&offset=10&lang=en\"\n",
        "headers = {\"apiKey\" : \"39d60a62-9df8-4df9-aefa-b47998ee2a61\"} \n",
        "response = requests.get(search_url, headers=headers, verify=False) \n",
        "response.json()"
      ],
      "execution_count": 7,
      "outputs": [
        {
          "output_type": "stream",
          "text": [
            "/usr/local/lib/python3.6/dist-packages/urllib3/connectionpool.py:858: InsecureRequestWarning: Unverified HTTPS request is being made. Adding certificate verification is strongly advised. See: https://urllib3.readthedocs.io/en/latest/advanced-usage.html#ssl-warnings\n",
            "  InsecureRequestWarning)\n"
          ],
          "name": "stderr"
        },
        {
          "output_type": "execute_result",
          "data": {
            "text/plain": [
              "{'error': None,\n",
              " 'result': [{'ArticleContext': '黃公望（1269－1354），江蘇常熟人。本姓陸，名堅，字子久，號大癡，又號一峰道人，晚號井西道人。父母早逝，繼永嘉黃氏，其父九十始得之曰：「黃公望子久矣。」因而名字焉。與吳鎮（1280－1354）、倪瓚（1301－1374）、王蒙（1308－1385）合稱為「元四大家」。\\r\\n&nbsp;\\r\\n至正七年，年歲漸老的黃公望回歸浙江省富陽縣富春鄉，同門師弟無用師同往，黃氏為無用師描繪富春山景色，到至正十年（1350），歷三四年方完成，時黃氏八十二歲，是其傳世最重要的作品。\\r\\n&nbsp;\\r\\n&lt;富春山居圖&gt;（無用師卷）由六紙接成，長逾六公尺，第一紙前有殘補痕跡。明末曾經火厄，裁裂前段部份現由浙江省博物館。畫卷筆墨堆疊層出，山石勾勒皴染變化多樣。全卷山體從渾圓迫近、層疊後偃，平緩坡岸乃至聳峙山峰，具豐富的山水型態。此畫卷不僅是富春的隱居景致，更是黃公望探索自然造化後的理想山水形象。\\r\\n&nbsp;',\n",
              "   'ArticleMaker': '黃公望',\n",
              "   'ArticleRemarks': '卷\\u3000紙本\\u3000水墨畫\\u3000縱：33公分\\u3000橫：636.9公分',\n",
              "   'ArticleSubject': '富春山居圖（無用師）',\n",
              "   'CateGory': '繪畫',\n",
              "   'Serial_No': '04000975',\n",
              "   'Slogan': '元',\n",
              "   'art_room': '',\n",
              "   'imgUrl': 'http://theme.npm.edu.tw/selection/att/collection/04000975/17010199.jpg'}],\n",
              " 'status': 200}"
            ]
          },
          "metadata": {
            "tags": []
          },
          "execution_count": 7
        }
      ]
    },
    {
      "metadata": {
        "id": "xyPibzN3ucbj",
        "colab_type": "code",
        "colab": {}
      },
      "cell_type": "code",
      "source": [
        ""
      ],
      "execution_count": 0,
      "outputs": []
    }
  ]
}